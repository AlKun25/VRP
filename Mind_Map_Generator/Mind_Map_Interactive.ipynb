{
 "cells": [
  {
   "cell_type": "code",
   "execution_count": null,
   "metadata": {},
   "outputs": [],
   "source": [
    "\n",
    "# def create_MindMap(headings_name, headings_para): #list of headings and list of dicts\n",
    "from pyvis.network import Network\n",
    "from operator import itemgetter \n",
    "\n",
    "net = Network(\"The Visual Research Paper\")\n",
    "root = \"Your Visual Research Paper\"\n",
    "#root_id = 1\n",
    "net.add_node(root, shape = \"circle\", value = 500000, title = root)\n",
    "#print(net.nodes)\n",
    "#id = 2\n",
    "nodes_list = []\n",
    "for i in headings_name:\n",
    "    nodes = []\n",
    "    #print(i)\n",
    "    for item in headings_para:\n",
    "        for key in item:\n",
    "            if(i == key):\n",
    "                nodes.append(item[key])\n",
    "    nodes_list.append(nodes)\n",
    "    \n",
    "count = 0\n",
    "for node in headings_name:\n",
    "    net.add_node(node, shape = \"ellipse\", value = 30000, title = node, label = node)\n",
    "    net.add_edge(root, node, weight=.97, length = 3000, arrow = True)\n",
    "    for x in range(len(nodes_list)):\n",
    "        for item in nodes_list[x]:\n",
    "            if(x == count):\n",
    "                net.add_node(item, shape = \"textbox\", value = (len(node)*1000), title = item)\n",
    "                net.add_edge(node, item, weight=.87, length = 5000, arrow = True)\n",
    "    count += 1\n",
    "\n",
    "print(net.nodes)\n",
    "net.toggle_physics(True)\n",
    "net.show_buttons(filter_=['physics'])\n",
    "net.show(\"mindmap.html\")"
   ]
  }
 ],
 "metadata": {
  "kernelspec": {
   "display_name": "Python 3",
   "language": "python",
   "name": "python3"
  },
  "language_info": {
   "codemirror_mode": {
    "name": "ipython",
    "version": 3
   },
   "file_extension": ".py",
   "mimetype": "text/x-python",
   "name": "python",
   "nbconvert_exporter": "python",
   "pygments_lexer": "ipython3",
   "version": "3.7.4-final"
  }
 },
 "nbformat": 4,
 "nbformat_minor": 2
}