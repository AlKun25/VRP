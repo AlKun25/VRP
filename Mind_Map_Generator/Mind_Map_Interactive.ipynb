{
 "metadata": {
  "language_info": {
   "codemirror_mode": {
    "name": "ipython",
    "version": 3
   },
   "file_extension": ".py",
   "mimetype": "text/x-python",
   "name": "python",
   "nbconvert_exporter": "python",
   "pygments_lexer": "ipython3",
   "version": 3
  },
  "orig_nbformat": 2
 },
 "nbformat": 4,
 "nbformat_minor": 2,
 "cells": [
  {
   "cell_type": "code",
   "execution_count": null,
   "metadata": {},
   "outputs": [],
   "source": [
    "def create_MindMap(headings_names, headings_para) #list of headings and list of dicts\n",
    "    from pyvis.network import Network\n",
    "    from operator import itemgetter \n",
    "    net = Network(\"The Visual Research Paper\")\n",
    "    root = \"Your Visual Research Paper\"\n",
    "    #root_id = 1\n",
    "    net.add_node(root, shape = \"circle\", value = 5000, title = root, color = 'ffb3bf', fill = \"pink\")\n",
    "    #print(net.nodes)\n",
    "    #id = 2\n",
    "    for node in headings_name:\n",
    "        net.add_node(node, shape = \"ellipse\", value = 3000, title = node, label = node, color = 'b37d8b', fill = \"red\")\n",
    "        net.add_edge(root, node, weight=.97)\n",
    "        #id += 1\n",
    "    nodes_list = []\n",
    "    for i in headings_name:\n",
    "        odes = []\n",
    "        #print(i)\n",
    "        for item in headings_para:\n",
    "            for key in item:\n",
    "                if(i == key):\n",
    "                    nodes.append(item[key])\n",
    "        nodes_list.append(nodes)\n",
    "\n",
    "    for node in nodes_list:\n",
    "        for item in node:\n",
    "            net.add_node(item, shape = \"textbox\", value = (len(node)*100), title = item, color = 'ffecf1')\n",
    "            net.add_edge(key, item, weight=.87)\n",
    "    #print(net.nodes)\n",
    "    net.toggle_physics(True)\n",
    "    net.show_buttons(filter_=['physics'])\n",
    "    net.show(\"mindmap.html\")"
   ]
  },
  {
   "cell_type": "code",
   "execution_count": null,
   "metadata": {},
   "outputs": [],
   "source": []
  }
 ]
}