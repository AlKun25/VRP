{
 "metadata": {
  "language_info": {
   "codemirror_mode": {
    "name": "ipython",
    "version": 3
   },
   "file_extension": ".py",
   "mimetype": "text/x-python",
   "name": "python",
   "nbconvert_exporter": "python",
   "pygments_lexer": "ipython3",
   "version": "3.7.4-final"
  },
  "orig_nbformat": 2,
  "kernelspec": {
   "name": "python3",
   "display_name": "Python 3"
  }
 },
 "nbformat": 4,
 "nbformat_minor": 2,
 "cells": [
  {
   "cell_type": "code",
   "execution_count": 2,
   "metadata": {
    "tags": []
   },
   "outputs": [
    {
     "output_type": "stream",
     "name": "stdout",
     "text": "Requirement already satisfied: pdfminer in /Users/irfhanazakirhussain/opt/anaconda3/lib/python3.7/site-packages (20191125)\nRequirement already satisfied: pycryptodome in /Users/irfhanazakirhussain/opt/anaconda3/lib/python3.7/site-packages (from pdfminer) (3.9.8)\n"
    }
   ],
   "source": [
    "!pip install pdfminer"
   ]
  },
  {
   "cell_type": "code",
   "execution_count": 2,
   "metadata": {},
   "outputs": [],
   "source": [
    "#import pdfminer"
   ]
  },
  {
   "cell_type": "code",
   "execution_count": 5,
   "metadata": {
    "tags": []
   },
   "outputs": [],
   "source": [
    "#!pdf2txt.py -o output.xml CVPR2017.pdf"
   ]
  },
  {
   "cell_type": "code",
   "execution_count": 9,
   "metadata": {
    "tags": []
   },
   "outputs": [
    {
     "output_type": "stream",
     "name": "stdout",
     "text": "Collecting python-pdfbox\n  Downloading https://files.pythonhosted.org/packages/53/a5/400b2507284a9e68f983697245981a174aae1260552e2a0091bef070d3cc/python_pdfbox-0.1.8-py3-none-any.whl\nCollecting jpype1 (from python-pdfbox)\n\u001b[?25l  Downloading https://files.pythonhosted.org/packages/f2/88/8b2c3e55e3d68b0428e3375547c3b1f489261b21f67498cb92b1b32c90a6/JPype1-1.0.2-cp37-cp37m-macosx_10_9_x86_64.whl (401kB)\n\u001b[K     |████████████████████████████████| 409kB 2.6MB/s \n\u001b[?25hRequirement already satisfied: appdirs in /Users/irfhanazakirhussain/opt/anaconda3/lib/python3.7/site-packages (from python-pdfbox) (1.4.3)\nRequirement already satisfied: setuptools in /Users/irfhanazakirhussain/opt/anaconda3/lib/python3.7/site-packages (from python-pdfbox) (41.4.0)\nCollecting typing-extensions; python_version < \"3.8\" (from jpype1->python-pdfbox)\n  Downloading https://files.pythonhosted.org/packages/60/7a/e881b5abb54db0e6e671ab088d079c57ce54e8a01a3ca443f561ccadb37e/typing_extensions-3.7.4.3-py3-none-any.whl\nInstalling collected packages: typing-extensions, jpype1, python-pdfbox\nSuccessfully installed jpype1-1.0.2 python-pdfbox-0.1.8 typing-extensions-3.7.4.3\n"
    }
   ],
   "source": [
    "!pip install python-pdfbox"
   ]
  },
  {
   "cell_type": "code",
   "execution_count": null,
   "metadata": {},
   "outputs": [],
   "source": [
    "import pdfbox\n",
    "p = pdfbox.PDFBox()\n",
    "p.extract_text('CVPR2017.pdf')"
   ]
  },
  {
   "cell_type": "code",
   "execution_count": null,
   "metadata": {},
   "outputs": [],
   "source": []
  }
 ]
}